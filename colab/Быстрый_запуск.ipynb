{
  "nbformat": 4,
  "nbformat_minor": 0,
  "metadata": {
    "colab": {
      "provenance": [],
      "collapsed_sections": [
        "LD-23Tk-x8Nh",
        "fmxhlf07yD66"
      ]
    },
    "kernelspec": {
      "name": "python3",
      "display_name": "Python 3"
    },
    "language_info": {
      "name": "python"
    }
  },
  "cells": [
    {
      "cell_type": "code",
      "source": [
        "from google.colab import drive\n",
        "drive.mount('/content/drive/')"
      ],
      "metadata": {
        "colab": {
          "base_uri": "https://localhost:8080/"
        },
        "id": "qqqeiQ3J7XRG",
        "outputId": "19aa3a11-ab7d-4753-faea-9ec3485d1e64"
      },
      "execution_count": null,
      "outputs": [
        {
          "output_type": "stream",
          "name": "stdout",
          "text": [
            "Mounted at /content/drive/\n"
          ]
        }
      ]
    },
    {
      "cell_type": "code",
      "source": [
        "from keras.models import Sequential\n",
        "from keras.layers import Dense\n",
        "from keras.layers import LSTM\n",
        "from keras.layers import GRU\n",
        "from keras.layers import Activation\n",
        "from keras.layers import Masking\n",
        "from keras.optimizers import RMSprop\n",
        "from keras.optimizers import Adam\n",
        "from keras import backend as k\n",
        "from tqdm import tqdm\n",
        "from sklearn.preprocessing import normalize, StandardScaler, LabelEncoder\n",
        "from scipy.stats import weibull_min\n",
        "import matplotlib.pyplot as plt\n",
        "import pandas as pd\n",
        "import numpy as np\n",
        "import keras"
      ],
      "metadata": {
        "id": "ycR5pUHb7c50"
      },
      "execution_count": null,
      "outputs": []
    },
    {
      "cell_type": "markdown",
      "source": [
        "#Много функций"
      ],
      "metadata": {
        "id": "LD-23Tk-x8Nh"
      }
    },
    {
      "cell_type": "code",
      "source": [
        "\"\"\"\n",
        "     Дискретное логарифмическое правдоподобие для функции риска Вейбулла на цензурированных данных о выживании\n",
        "     y_true — тензор (выборки, 2), содержащий время до события (y) и индикатор события (u).\n",
        "     ab_pred — тензор (выборки, 2), содержащий предсказанные параметры Вейбулла альфа (а) и бета (б)\n",
        "     Математические сведения см. https://ragulpr.github.io/assets/draft_master_thesis_martinsson_egil_wtte_rnn_2016.pdf (стр. 35).\n",
        "\"\"\"\n",
        "def weibull_loglik_discrete(y_true, ab_pred, name=None):\n",
        "    y_ = y_true[:, 0]\n",
        "    u_ = y_true[:, 1]\n",
        "    a_ = ab_pred[:, 0]\n",
        "    b_ = ab_pred[:, 1]\n",
        "\n",
        "    hazard0 = k.pow((y_ + 1e-35) / a_, b_)\n",
        "    hazard1 = k.pow((y_ + 1) / a_, b_)\n",
        "\n",
        "    return -1 * k.mean(u_ * k.log(k.exp(hazard1 - hazard0) - 1.0) - hazard1)"
      ],
      "metadata": {
        "id": "3yoYjUJXquLq"
      },
      "execution_count": null,
      "outputs": []
    },
    {
      "cell_type": "code",
      "source": [
        "\"\"\"\n",
        "     Не используется для этой модели, но включен в комплект на случай, если кому-то понадобится.\n",
        "     Математические сведения см. https://ragulpr.github.io/assets/draft_master_thesis_martinsson_egil_wtte_rnn_2016.pdf (стр. 35).\n",
        "\"\"\"\n",
        "def weibull_loglik_continuous(y_true, ab_pred, name=None):\n",
        "    y_ = y_true[:, 0]\n",
        "    u_ = y_true[:, 1]\n",
        "    a_ = ab_pred[:, 0]\n",
        "    b_ = ab_pred[:, 1]\n",
        "\n",
        "    ya = (y_ + 1e-35) / a_\n",
        "    return -1 * k.mean(u_ * (k.log(b_) + b_ * k.log(ya)) - k.pow(ya, b_))"
      ],
      "metadata": {
        "id": "3AVo5wNOqxYg"
      },
      "execution_count": null,
      "outputs": []
    },
    {
      "cell_type": "code",
      "source": [
        "\"\"\"\n",
        "    Пользовательская функция активации Keras, выводит альфа-нейрон с использованием возведения в степень и бета-версию с помощью softplus\n",
        "\"\"\"\n",
        "def activate(ab):\n",
        "    a = k.exp(ab[:, 0])\n",
        "    b = k.softplus(ab[:, 1])\n",
        "\n",
        "    a = k.reshape(a, (k.shape(a)[0], 1))\n",
        "    b = k.reshape(b, (k.shape(b)[0], 1))\n",
        "\n",
        "    return k.concatenate((a, b), axis=1)"
      ],
      "metadata": {
        "id": "rDZGVtwFqvvh"
      },
      "execution_count": null,
      "outputs": []
    },
    {
      "cell_type": "code",
      "source": [
        "def fun_mean_std(train):\n",
        "\n",
        "  ids=train['client_id']\n",
        "  train=train.drop('client_id', axis=1)\n",
        "\n",
        "  # Вычисление средних значений и стандартных отклонений для каждого столбца и применение к данным\n",
        "  #normalized_data = scaler.fit_transform(train)\n",
        "  train=train.fillna(0)\n",
        "  normalized_data = normalize(train.values, axis=0)\n",
        "  #normalized_data\n",
        "  # Создание нового DataFrame с нормализованными данными\n",
        "  df_normalized = pd.DataFrame(normalized_data, columns=train.columns)\n",
        "\n",
        "  df_normalized['User_ID']=ids\n",
        "\n",
        "  return df_normalized"
      ],
      "metadata": {
        "id": "Y6IQwG7wtt9J"
      },
      "execution_count": null,
      "outputs": []
    },
    {
      "cell_type": "code",
      "source": [
        "def fun_with_LabelEncoder(df_normalized):\n",
        "  # Применение LabelEncoder к столбцу 'id'\n",
        "  df_normalized['User_ID'] = label_encoder.fit_transform(df_normalized['User_ID'])\n",
        "\n",
        "  df_normalized['Time_Step'] = df_normalized.groupby('User_ID').cumcount() + 1\n",
        "\n",
        "  # Сгруппировать данные по user_id и вычислить максимальное значение временной метки в каждой группе\n",
        "  max_timestamps = df_normalized.groupby('User_ID')['Time_Step'].max()\n",
        "\n",
        "  # Объединить максимальные значения с исходным DataFrame\n",
        "  df_normalized = df_normalized.merge(max_timestamps.rename('max_timestamp'), on='User_ID')\n",
        "\n",
        "  # Вычесть максимальное значение временной метки из каждой временной метки в группе\n",
        "  df_normalized['time_diff'] = df_normalized['max_timestamp'] - df_normalized['Time_Step']\n",
        "\n",
        "  # Удаляем вспомогательный столбец\n",
        "  df_normalized=df_normalized.drop(['max_timestamp'], axis=1)\n",
        "\n",
        "  df_normalized['Time_Step'] = df_normalized['time_diff']\n",
        "  df_normalized = df_normalized.drop(['time_diff'], axis=1)\n",
        "\n",
        "  return df_normalized"
      ],
      "metadata": {
        "id": "fgjchi1KrNcp"
      },
      "execution_count": null,
      "outputs": []
    },
    {
      "cell_type": "code",
      "source": [
        "#ускоренная версия функции build_data_v2\n",
        "def build_data_v3(df, max_time, is_test, mask_value=-99):\n",
        "\n",
        "    grouped = df.groupby('User_ID')\n",
        "\n",
        "    out_y = []\n",
        "    out_x = []\n",
        "\n",
        "    for user_id, group in tqdm(grouped):\n",
        "        max_engine_time = group['Time_Step'].max()\n",
        "\n",
        "        if is_test:\n",
        "            start = max_engine_time - 1\n",
        "        else:\n",
        "            start = 0\n",
        "\n",
        "        this_x = []\n",
        "\n",
        "        for j in range(start, max_engine_time):\n",
        "            engine_x = group.iloc[:j+1].drop(['User_ID', 'Time_Step'], axis=1).to_numpy()\n",
        "\n",
        "            out_y.append([max_engine_time - j, 1])\n",
        "\n",
        "            xtemp = np.zeros((max_time, engine_x.shape[1]))\n",
        "            xtemp[max_time-min(j, max_time-1)-1:max_time, :] = engine_x[max(0, j-max_time+1):j+1, :]\n",
        "            this_x.append(xtemp)\n",
        "\n",
        "        out_x.extend(this_x)\n",
        "\n",
        "    return np.array(out_x), np.array(out_y)"
      ],
      "metadata": {
        "id": "L3GWNxM6nrJP"
      },
      "execution_count": null,
      "outputs": []
    },
    {
      "cell_type": "code",
      "source": [
        "#преобразует датафреймы в формат для обучения\n",
        "def get_dfs(mini_test_df, test_y, max_time, mask_value):\n",
        "\n",
        "  test_x = build_data_v3(mini_test_df, max_time, True, mask_value)[0]\n",
        "\n",
        "  train_u = np.zeros((test_y.shape[0], 1), dtype=np.float32)\n",
        "  train_u += 1\n",
        "  test_y = np.append(np.reshape(test_y, (test_y.shape[0], 1)), train_u, axis=1)\n",
        "  return (test_x, test_y)"
      ],
      "metadata": {
        "id": "K5IlESLVn-n_"
      },
      "execution_count": null,
      "outputs": []
    },
    {
      "cell_type": "code",
      "source": [
        "def post_prediction_reconstruct(x_pred, y, y_cenzor=0):\n",
        "  y[:,0] = y[:,0]+y_cenzor\n",
        "  x_pred = np.resize(x_pred, (y.shape[0], 2))\n",
        "  result = np.concatenate((y, x_pred), axis=1)\n",
        "\n",
        "  # TTE, Event Indicator, Alpha, Beta\n",
        "  results_df = pd.DataFrame(result, columns=['T', 'E', 'alpha', 'beta'])\n",
        "  results_df['unit_number'] = np.arange(1, results_df.shape[0]+1)\n",
        "  return results_df"
      ],
      "metadata": {
        "id": "sjVorQ6Lt2XQ"
      },
      "execution_count": null,
      "outputs": []
    },
    {
      "cell_type": "code",
      "source": [
        "['npo_accnts_nmbr', 'gender', 'age', 'clnt_cprtn_time_d', 'actv_prd_d',\n",
        "       'lst_pmnt_rcnc_d', 'balance', 'oprtn_sum_per_qrtr',\n",
        "       'oprtn_sum_per_year', 'frst_pmnt', 'lst_pmnt', 'pmnts_sum',\n",
        "       'pmnts_nmbr', 'pmnts_sum_per_qrtr', 'pmnts_sum_per_year',\n",
        "       'pmnts_nmbr_per_qrtr', 'pmnts_nmbr_per_year', 'incm_sum',\n",
        "       'incm_per_qrtr', 'assignee_npo', 'citizen', 'appl_mrkr',\n",
        "       'evry_qrtr_pmnt', 'User_ID', 'Time_Step']\n",
        "\n",
        "\n",
        "['npo_accnts_nmbr', 'gender', 'age', 'clnt_cprtn_time_d', 'actv_prd_d',\n",
        "       'lst_pmnt_rcnc_d', 'balance', 'oprtn_sum_per_qrtr',\n",
        "       'oprtn_sum_per_year', 'frst_pmnt', 'lst_pmnt', 'pmnts_sum',\n",
        "       'pmnts_nmbr', 'pmnts_sum_per_qrtr', 'pmnts_sum_per_year',\n",
        "       'pmnts_nmbr_per_qrtr', 'pmnts_nmbr_per_year', 'incm_sum',\n",
        "       'incm_per_qrtr', 'assignee_npo', 'citizen', 'appl_mrkr',\n",
        "       'evry_qrtr_pmnt', 'User_ID', 'Time_Step', 'time_diff']"
      ],
      "metadata": {
        "id": "ElJ-lYnRCd0y",
        "colab": {
          "base_uri": "https://localhost:8080/"
        },
        "outputId": "e6ac1d9c-143b-46a5-ea69-4c770cbdc6fc"
      },
      "execution_count": null,
      "outputs": [
        {
          "output_type": "execute_result",
          "data": {
            "text/plain": [
              "['npo_accnts_nmbr',\n",
              " 'gender',\n",
              " 'age',\n",
              " 'clnt_cprtn_time_d',\n",
              " 'actv_prd_d',\n",
              " 'lst_pmnt_rcnc_d',\n",
              " 'balance',\n",
              " 'oprtn_sum_per_qrtr',\n",
              " 'oprtn_sum_per_year',\n",
              " 'frst_pmnt',\n",
              " 'lst_pmnt',\n",
              " 'pmnts_sum',\n",
              " 'pmnts_nmbr',\n",
              " 'pmnts_sum_per_qrtr',\n",
              " 'pmnts_sum_per_year',\n",
              " 'pmnts_nmbr_per_qrtr',\n",
              " 'pmnts_nmbr_per_year',\n",
              " 'incm_sum',\n",
              " 'incm_per_qrtr',\n",
              " 'assignee_npo',\n",
              " 'citizen',\n",
              " 'appl_mrkr',\n",
              " 'evry_qrtr_pmnt',\n",
              " 'User_ID',\n",
              " 'Time_Step',\n",
              " 'time_diff']"
            ]
          },
          "metadata": {},
          "execution_count": 15
        }
      ]
    },
    {
      "cell_type": "code",
      "source": [
        "def weibull_pdf(alpha, beta, t):\n",
        "    return weibull_min.pdf(t, beta, scale=alpha)\n",
        "\n",
        "def weibull_median(alpha, beta):\n",
        "    return weibull_min.median(beta, scale=alpha)\n",
        "\n",
        "def weibull_mean(alpha, beta):\n",
        "    return weibull_min.mean(beta, scale=alpha)\n",
        "\n",
        "def weibull_mode(alpha, beta):\n",
        "    assert np.all(beta > 1)\n",
        "    return alpha * ((beta-1)/beta)**(1/beta)"
      ],
      "metadata": {
        "id": "xMAanwlZxAI_"
      },
      "execution_count": null,
      "outputs": []
    },
    {
      "cell_type": "code",
      "source": [
        "# Вычисляем вероятность попадания в интервал [a, b]\n",
        "\n",
        "def get_prop(id, test_results_df,a ,b):\n",
        "    row=test_results_df[test_results_df['unit_number']==id]\n",
        "\n",
        "    #for i, row in enumerate(results_df.iterrows()):\n",
        "    alpha=row['alpha'].values[0]\n",
        "    beta = row['beta'].values[0]\n",
        "    T = row['T'].values[0]\n",
        "    weibull_dist = weibull_min(beta, scale=alpha)\n",
        "    probability = weibull_dist.cdf(b) - weibull_dist.cdf(a)\n",
        "\n",
        "    return probability\n",
        "\n",
        "    #print(\"Вероятность попадания в интервал от {} до {}: {:.4f}\".format(a, b, probability))"
      ],
      "metadata": {
        "id": "dEd-HAqExA0w"
      },
      "execution_count": null,
      "outputs": []
    },
    {
      "cell_type": "code",
      "source": [
        "def prop_dicts(test_results_df, a, b):\n",
        "  prop_dict={}\n",
        "  for user_i in range(1,len(test_results_df)+1):\n",
        "    prop_dict[user_i]=get_prop(user_i, test_results_df,a ,b)\n",
        "\n",
        "  return prop_dict"
      ],
      "metadata": {
        "id": "PvXdNAJzkwMx"
      },
      "execution_count": null,
      "outputs": []
    },
    {
      "cell_type": "code",
      "source": [
        "def get_metric_AUC(best_threshold, prop_dict):\n",
        "\n",
        "  y_pred_AUC = np.array(list(prop_dict.values()))\n",
        "  taken_ids=list(prop_dict.keys())\n",
        "  y_pred_AUC = y_pred_AUC > best_threshold\n",
        "\n",
        "  return y_pred_AUC, taken_ids"
      ],
      "metadata": {
        "id": "5OFDdWW4nLEo"
      },
      "execution_count": null,
      "outputs": []
    },
    {
      "cell_type": "code",
      "source": [
        "def first_train_data(train, drop_list):\n",
        "  train=train.drop(drop_list, axis=1)\n",
        "  old_train=train\n",
        "  return train, old_train"
      ],
      "metadata": {
        "id": "Nekr6EnDwP6J"
      },
      "execution_count": null,
      "outputs": []
    },
    {
      "cell_type": "code",
      "source": [
        "def prep_data(file_dist: str):\n",
        "    train = pd.read_csv(file_dist)\n",
        "\n",
        "    train = train.sort_values(by='quarter')\n",
        "\n",
        "    # Group by\n",
        "    client_lives = train.groupby('client_id')['churn'].sum()\n",
        "\n",
        "    # Reset\n",
        "    client_lives = pd.DataFrame(client_lives).reset_index()\n",
        "    client_lives = client_lives.rename(\n",
        "        columns={'churn': \"sum_leave\"}\n",
        "    )\n",
        "\n",
        "    train = pd.merge(train, client_lives, on='client_id', how='left')\n",
        "\n",
        "    # Cut data\n",
        "    d_train = train[train['sum_leave'] == 1]\n",
        "\n",
        "    # Сгруппировать данные по user_id и вычислить максимальное значение временной метки в каждой группе\n",
        "    max_timestamps = d_train.groupby('client_id')['clnt_cprtn_time_d'].max()\n",
        "\n",
        "    # Объединить максимальные значения с исходным DataFrame\n",
        "    d_train = d_train.merge(max_timestamps.rename('max_timestamp'), on='client_id')\n",
        "\n",
        "    # Вычесть максимальное значение временной метки из каждой временной метки в группе\n",
        "    d_train['time_diff'] = d_train['max_timestamp'] - d_train['clnt_cprtn_time_d']\n",
        "    d_train = d_train.drop(['max_timestamp'], axis=1)\n",
        "\n",
        "    d_train = d_train.drop(\n",
        "        ['npo_account_id',\n",
        "         'region',\n",
        "         'lst_pmnt_date_per_qrtr',\n",
        "         'frst_pmnt_date',\n",
        "         'year'],\n",
        "        axis=1\n",
        "    )\n",
        "\n",
        "    pp = d_train.groupby(['client_id', 'quarter']).mean()\n",
        "\n",
        "    #pp.to_csv('prepare_data.csv')\n",
        "\n",
        "    return pp"
      ],
      "metadata": {
        "id": "8OnzUzih0fs6"
      },
      "execution_count": null,
      "outputs": []
    },
    {
      "cell_type": "code",
      "source": [
        "def main_for_model(filepath_for_model, test_x, test_y):\n",
        "  model = keras.models.load_model(filepath = filepath_for_model, custom_objects = {\"weibull_loglik_discrete\": weibull_loglik_discrete, \"activate\": activate})\n",
        "\n",
        "  def get_alpha_beta(x, y, y_cenzor=0):\n",
        "    predict = model.predict(x)\n",
        "    results_df = post_prediction_reconstruct(predict, y, y_cenzor)\n",
        "    results_df.loc[results_df['beta'] <= 1, 'beta'] = 1.1\n",
        "    return results_df\n",
        "\n",
        "  test_results_df = get_alpha_beta(test_x, test_y)\n",
        "  return test_results_df"
      ],
      "metadata": {
        "id": "kP5MvEqc4q6j"
      },
      "execution_count": null,
      "outputs": []
    },
    {
      "cell_type": "code",
      "source": [
        "def submisions(output, taken_ids, y_pred_AUC):\n",
        "\n",
        "  output['customer_id']=label_encoder.inverse_transform(np.array(taken_ids)-1)\n",
        "  output['label']=y_pred_AUC\n",
        "\n",
        "  label_encoder.inverse_transform([2])\n",
        "\n",
        "  return output"
      ],
      "metadata": {
        "id": "6CuTrrL9_xhx"
      },
      "execution_count": null,
      "outputs": []
    },
    {
      "cell_type": "code",
      "source": [
        "def WTTE_RNN(filepath_for_data ,drop_list, filepath_for_model, max_time, mask_value, a, b, best_threshold):\n",
        "  train = prep_data(filepath_for_data)\n",
        "  train = train.reset_index(['client_id', 'quarter'])\n",
        "  train, old_train = first_train_data(train, drop_list)\n",
        "\n",
        "  df_normalized = fun_mean_std(train)\n",
        "  df_normalized = fun_with_LabelEncoder(df_normalized)\n",
        "\n",
        "  test_y = df_normalized.groupby('User_ID')['Time_Step'].max()+1\n",
        "  test_x, test_y = get_dfs(df_normalized, test_y, max_time, mask_value)\n",
        "\n",
        "  #test_x.shape\n",
        "  model = keras.models.load_model(filepath = filepath_for_model, custom_objects = {\"weibull_loglik_discrete\": weibull_loglik_discrete, \"activate\": activate})\n",
        "\n",
        "  test_results_df = main_for_model(filepath_for_model, test_x, test_y)\n",
        "  prop_dict = prop_dicts(test_results_df, a, b)\n",
        "  y_pred_AUC, taken_ids = get_metric_AUC(best_threshold, prop_dict)\n",
        "\n",
        "  output = pd.DataFrame([])\n",
        "  output=submisions(output, taken_ids, y_pred_AUC)\n",
        "\n",
        "  return output"
      ],
      "metadata": {
        "id": "z6Hnw4B-v92J"
      },
      "execution_count": null,
      "outputs": []
    },
    {
      "cell_type": "markdown",
      "source": [
        "#Главная функция всея Руси"
      ],
      "metadata": {
        "id": "fmxhlf07yD66"
      }
    },
    {
      "cell_type": "code",
      "source": [
        "# Инициализация стандартизатора\n",
        "#scaler = StandardScaler()\n",
        "\n",
        "# Инициализация LabelEncoder\n",
        "label_encoder = LabelEncoder()"
      ],
      "metadata": {
        "id": "BLCr27HvuIc5"
      },
      "execution_count": null,
      "outputs": []
    },
    {
      "cell_type": "markdown",
      "source": [
        "Пути до файла и модели"
      ],
      "metadata": {
        "id": "OiN4_Owo1KNB"
      }
    },
    {
      "cell_type": "code",
      "source": [
        "filepath_for_data = \"/content/drive/MyDrive/хаки/цпНПО/train.csv\""
      ],
      "metadata": {
        "id": "a05iUt_N0tH6"
      },
      "execution_count": null,
      "outputs": []
    },
    {
      "cell_type": "code",
      "source": [
        "filepath_for_model = \"/content/drive/MyDrive/хаки/5/model.keras\""
      ],
      "metadata": {
        "id": "TTzoV0L3pH8o"
      },
      "execution_count": null,
      "outputs": []
    },
    {
      "cell_type": "markdown",
      "source": [
        "Гиперпараметры"
      ],
      "metadata": {
        "id": "HoAT73d41WCp"
      }
    },
    {
      "cell_type": "code",
      "source": [
        "max_time = 5 #проходимся окном, длинной max_time для каждого пользователя. (Работает как буффер)\n",
        "mask_value = -99 #значение, которым будут заполняться неполные подпоследовательности (буффера)"
      ],
      "metadata": {
        "id": "72PPV34zpdrk"
      },
      "execution_count": null,
      "outputs": []
    },
    {
      "cell_type": "code",
      "source": [
        "a, b = 0, 1"
      ],
      "metadata": {
        "id": "iDzaj6GUpKgo"
      },
      "execution_count": null,
      "outputs": []
    },
    {
      "cell_type": "code",
      "source": [
        "best_threshold=0.4"
      ],
      "metadata": {
        "id": "uxg-MS7Q5904"
      },
      "execution_count": null,
      "outputs": []
    },
    {
      "cell_type": "code",
      "source": [
        "drop_list=['quarter', 'slctn_nmbr', 'pmnts_type', 'incm_per_year', 'mgd_accum_period',\n",
        "          'mgd_payment_period', 'phone_number', 'email', 'lk',\n",
        "          'assignee_ops', 'postal_code', 'fact_addrss', 'churn', 'sum_leave', 'time_diff']"
      ],
      "metadata": {
        "id": "I7XX2ZIXwgz5"
      },
      "execution_count": null,
      "outputs": []
    },
    {
      "cell_type": "code",
      "source": [
        "output = WTTE_RNN(filepath_for_data ,drop_list, filepath_for_model, max_time, mask_value, a, b, best_threshold)"
      ],
      "metadata": {
        "id": "0kg2Gj3wxi5n",
        "colab": {
          "base_uri": "https://localhost:8080/"
        },
        "outputId": "a4b830b0-640c-40e4-c053-6aea4e0e3793"
      },
      "execution_count": null,
      "outputs": [
        {
          "output_type": "stream",
          "name": "stderr",
          "text": [
            "100%|██████████| 47133/47133 [00:39<00:00, 1184.37it/s]\n"
          ]
        },
        {
          "output_type": "stream",
          "name": "stdout",
          "text": [
            "1473/1473 [==============================] - 8s 5ms/step\n"
          ]
        }
      ]
    },
    {
      "cell_type": "code",
      "source": [
        "output"
      ],
      "metadata": {
        "colab": {
          "base_uri": "https://localhost:8080/",
          "height": 424
        },
        "id": "FvoDjRuQASAi",
        "outputId": "c06159aa-3a42-4338-db99-fb8605828649"
      },
      "execution_count": null,
      "outputs": [
        {
          "output_type": "execute_result",
          "data": {
            "text/plain": [
              "                              customer_id  label\n",
              "0      0x0003085F2E86484887D3EF669716BB81  False\n",
              "1      0x0004ECA4895CDB4DADFF4A46F9BBC8EE  False\n",
              "2      0x0007763F58DAD14E8576471C78973CEC  False\n",
              "3      0x00080BDE942CFE449238E2C2F2A0C67D  False\n",
              "4      0x000842A433587E4FA1C7D36487F7031B  False\n",
              "...                                   ...    ...\n",
              "47128  0xFFF43F85B7525F41B214E669F7CD469A  False\n",
              "47129  0xFFF69B8570911C47B4F7EC3DC8432AB7  False\n",
              "47130  0xFFF739CD343DE24A889E827AF084B055  False\n",
              "47131  0xFFF7B06D4D31DD47B8C2F235003329C9  False\n",
              "47132  0xFFFF0AE0BF644E4694CD55E936A82944  False\n",
              "\n",
              "[47133 rows x 2 columns]"
            ],
            "text/html": [
              "\n",
              "  <div id=\"df-37eca675-ce13-4bec-86ea-a677e8001348\" class=\"colab-df-container\">\n",
              "    <div>\n",
              "<style scoped>\n",
              "    .dataframe tbody tr th:only-of-type {\n",
              "        vertical-align: middle;\n",
              "    }\n",
              "\n",
              "    .dataframe tbody tr th {\n",
              "        vertical-align: top;\n",
              "    }\n",
              "\n",
              "    .dataframe thead th {\n",
              "        text-align: right;\n",
              "    }\n",
              "</style>\n",
              "<table border=\"1\" class=\"dataframe\">\n",
              "  <thead>\n",
              "    <tr style=\"text-align: right;\">\n",
              "      <th></th>\n",
              "      <th>customer_id</th>\n",
              "      <th>label</th>\n",
              "    </tr>\n",
              "  </thead>\n",
              "  <tbody>\n",
              "    <tr>\n",
              "      <th>0</th>\n",
              "      <td>0x0003085F2E86484887D3EF669716BB81</td>\n",
              "      <td>False</td>\n",
              "    </tr>\n",
              "    <tr>\n",
              "      <th>1</th>\n",
              "      <td>0x0004ECA4895CDB4DADFF4A46F9BBC8EE</td>\n",
              "      <td>False</td>\n",
              "    </tr>\n",
              "    <tr>\n",
              "      <th>2</th>\n",
              "      <td>0x0007763F58DAD14E8576471C78973CEC</td>\n",
              "      <td>False</td>\n",
              "    </tr>\n",
              "    <tr>\n",
              "      <th>3</th>\n",
              "      <td>0x00080BDE942CFE449238E2C2F2A0C67D</td>\n",
              "      <td>False</td>\n",
              "    </tr>\n",
              "    <tr>\n",
              "      <th>4</th>\n",
              "      <td>0x000842A433587E4FA1C7D36487F7031B</td>\n",
              "      <td>False</td>\n",
              "    </tr>\n",
              "    <tr>\n",
              "      <th>...</th>\n",
              "      <td>...</td>\n",
              "      <td>...</td>\n",
              "    </tr>\n",
              "    <tr>\n",
              "      <th>47128</th>\n",
              "      <td>0xFFF43F85B7525F41B214E669F7CD469A</td>\n",
              "      <td>False</td>\n",
              "    </tr>\n",
              "    <tr>\n",
              "      <th>47129</th>\n",
              "      <td>0xFFF69B8570911C47B4F7EC3DC8432AB7</td>\n",
              "      <td>False</td>\n",
              "    </tr>\n",
              "    <tr>\n",
              "      <th>47130</th>\n",
              "      <td>0xFFF739CD343DE24A889E827AF084B055</td>\n",
              "      <td>False</td>\n",
              "    </tr>\n",
              "    <tr>\n",
              "      <th>47131</th>\n",
              "      <td>0xFFF7B06D4D31DD47B8C2F235003329C9</td>\n",
              "      <td>False</td>\n",
              "    </tr>\n",
              "    <tr>\n",
              "      <th>47132</th>\n",
              "      <td>0xFFFF0AE0BF644E4694CD55E936A82944</td>\n",
              "      <td>False</td>\n",
              "    </tr>\n",
              "  </tbody>\n",
              "</table>\n",
              "<p>47133 rows × 2 columns</p>\n",
              "</div>\n",
              "    <div class=\"colab-df-buttons\">\n",
              "\n",
              "  <div class=\"colab-df-container\">\n",
              "    <button class=\"colab-df-convert\" onclick=\"convertToInteractive('df-37eca675-ce13-4bec-86ea-a677e8001348')\"\n",
              "            title=\"Convert this dataframe to an interactive table.\"\n",
              "            style=\"display:none;\">\n",
              "\n",
              "  <svg xmlns=\"http://www.w3.org/2000/svg\" height=\"24px\" viewBox=\"0 -960 960 960\">\n",
              "    <path d=\"M120-120v-720h720v720H120Zm60-500h600v-160H180v160Zm220 220h160v-160H400v160Zm0 220h160v-160H400v160ZM180-400h160v-160H180v160Zm440 0h160v-160H620v160ZM180-180h160v-160H180v160Zm440 0h160v-160H620v160Z\"/>\n",
              "  </svg>\n",
              "    </button>\n",
              "\n",
              "  <style>\n",
              "    .colab-df-container {\n",
              "      display:flex;\n",
              "      gap: 12px;\n",
              "    }\n",
              "\n",
              "    .colab-df-convert {\n",
              "      background-color: #E8F0FE;\n",
              "      border: none;\n",
              "      border-radius: 50%;\n",
              "      cursor: pointer;\n",
              "      display: none;\n",
              "      fill: #1967D2;\n",
              "      height: 32px;\n",
              "      padding: 0 0 0 0;\n",
              "      width: 32px;\n",
              "    }\n",
              "\n",
              "    .colab-df-convert:hover {\n",
              "      background-color: #E2EBFA;\n",
              "      box-shadow: 0px 1px 2px rgba(60, 64, 67, 0.3), 0px 1px 3px 1px rgba(60, 64, 67, 0.15);\n",
              "      fill: #174EA6;\n",
              "    }\n",
              "\n",
              "    .colab-df-buttons div {\n",
              "      margin-bottom: 4px;\n",
              "    }\n",
              "\n",
              "    [theme=dark] .colab-df-convert {\n",
              "      background-color: #3B4455;\n",
              "      fill: #D2E3FC;\n",
              "    }\n",
              "\n",
              "    [theme=dark] .colab-df-convert:hover {\n",
              "      background-color: #434B5C;\n",
              "      box-shadow: 0px 1px 3px 1px rgba(0, 0, 0, 0.15);\n",
              "      filter: drop-shadow(0px 1px 2px rgba(0, 0, 0, 0.3));\n",
              "      fill: #FFFFFF;\n",
              "    }\n",
              "  </style>\n",
              "\n",
              "    <script>\n",
              "      const buttonEl =\n",
              "        document.querySelector('#df-37eca675-ce13-4bec-86ea-a677e8001348 button.colab-df-convert');\n",
              "      buttonEl.style.display =\n",
              "        google.colab.kernel.accessAllowed ? 'block' : 'none';\n",
              "\n",
              "      async function convertToInteractive(key) {\n",
              "        const element = document.querySelector('#df-37eca675-ce13-4bec-86ea-a677e8001348');\n",
              "        const dataTable =\n",
              "          await google.colab.kernel.invokeFunction('convertToInteractive',\n",
              "                                                    [key], {});\n",
              "        if (!dataTable) return;\n",
              "\n",
              "        const docLinkHtml = 'Like what you see? Visit the ' +\n",
              "          '<a target=\"_blank\" href=https://colab.research.google.com/notebooks/data_table.ipynb>data table notebook</a>'\n",
              "          + ' to learn more about interactive tables.';\n",
              "        element.innerHTML = '';\n",
              "        dataTable['output_type'] = 'display_data';\n",
              "        await google.colab.output.renderOutput(dataTable, element);\n",
              "        const docLink = document.createElement('div');\n",
              "        docLink.innerHTML = docLinkHtml;\n",
              "        element.appendChild(docLink);\n",
              "      }\n",
              "    </script>\n",
              "  </div>\n",
              "\n",
              "\n",
              "<div id=\"df-d24855d5-4ce2-4f52-9deb-bfcbd4bb2165\">\n",
              "  <button class=\"colab-df-quickchart\" onclick=\"quickchart('df-d24855d5-4ce2-4f52-9deb-bfcbd4bb2165')\"\n",
              "            title=\"Suggest charts\"\n",
              "            style=\"display:none;\">\n",
              "\n",
              "<svg xmlns=\"http://www.w3.org/2000/svg\" height=\"24px\"viewBox=\"0 0 24 24\"\n",
              "     width=\"24px\">\n",
              "    <g>\n",
              "        <path d=\"M19 3H5c-1.1 0-2 .9-2 2v14c0 1.1.9 2 2 2h14c1.1 0 2-.9 2-2V5c0-1.1-.9-2-2-2zM9 17H7v-7h2v7zm4 0h-2V7h2v10zm4 0h-2v-4h2v4z\"/>\n",
              "    </g>\n",
              "</svg>\n",
              "  </button>\n",
              "\n",
              "<style>\n",
              "  .colab-df-quickchart {\n",
              "      --bg-color: #E8F0FE;\n",
              "      --fill-color: #1967D2;\n",
              "      --hover-bg-color: #E2EBFA;\n",
              "      --hover-fill-color: #174EA6;\n",
              "      --disabled-fill-color: #AAA;\n",
              "      --disabled-bg-color: #DDD;\n",
              "  }\n",
              "\n",
              "  [theme=dark] .colab-df-quickchart {\n",
              "      --bg-color: #3B4455;\n",
              "      --fill-color: #D2E3FC;\n",
              "      --hover-bg-color: #434B5C;\n",
              "      --hover-fill-color: #FFFFFF;\n",
              "      --disabled-bg-color: #3B4455;\n",
              "      --disabled-fill-color: #666;\n",
              "  }\n",
              "\n",
              "  .colab-df-quickchart {\n",
              "    background-color: var(--bg-color);\n",
              "    border: none;\n",
              "    border-radius: 50%;\n",
              "    cursor: pointer;\n",
              "    display: none;\n",
              "    fill: var(--fill-color);\n",
              "    height: 32px;\n",
              "    padding: 0;\n",
              "    width: 32px;\n",
              "  }\n",
              "\n",
              "  .colab-df-quickchart:hover {\n",
              "    background-color: var(--hover-bg-color);\n",
              "    box-shadow: 0 1px 2px rgba(60, 64, 67, 0.3), 0 1px 3px 1px rgba(60, 64, 67, 0.15);\n",
              "    fill: var(--button-hover-fill-color);\n",
              "  }\n",
              "\n",
              "  .colab-df-quickchart-complete:disabled,\n",
              "  .colab-df-quickchart-complete:disabled:hover {\n",
              "    background-color: var(--disabled-bg-color);\n",
              "    fill: var(--disabled-fill-color);\n",
              "    box-shadow: none;\n",
              "  }\n",
              "\n",
              "  .colab-df-spinner {\n",
              "    border: 2px solid var(--fill-color);\n",
              "    border-color: transparent;\n",
              "    border-bottom-color: var(--fill-color);\n",
              "    animation:\n",
              "      spin 1s steps(1) infinite;\n",
              "  }\n",
              "\n",
              "  @keyframes spin {\n",
              "    0% {\n",
              "      border-color: transparent;\n",
              "      border-bottom-color: var(--fill-color);\n",
              "      border-left-color: var(--fill-color);\n",
              "    }\n",
              "    20% {\n",
              "      border-color: transparent;\n",
              "      border-left-color: var(--fill-color);\n",
              "      border-top-color: var(--fill-color);\n",
              "    }\n",
              "    30% {\n",
              "      border-color: transparent;\n",
              "      border-left-color: var(--fill-color);\n",
              "      border-top-color: var(--fill-color);\n",
              "      border-right-color: var(--fill-color);\n",
              "    }\n",
              "    40% {\n",
              "      border-color: transparent;\n",
              "      border-right-color: var(--fill-color);\n",
              "      border-top-color: var(--fill-color);\n",
              "    }\n",
              "    60% {\n",
              "      border-color: transparent;\n",
              "      border-right-color: var(--fill-color);\n",
              "    }\n",
              "    80% {\n",
              "      border-color: transparent;\n",
              "      border-right-color: var(--fill-color);\n",
              "      border-bottom-color: var(--fill-color);\n",
              "    }\n",
              "    90% {\n",
              "      border-color: transparent;\n",
              "      border-bottom-color: var(--fill-color);\n",
              "    }\n",
              "  }\n",
              "</style>\n",
              "\n",
              "  <script>\n",
              "    async function quickchart(key) {\n",
              "      const quickchartButtonEl =\n",
              "        document.querySelector('#' + key + ' button');\n",
              "      quickchartButtonEl.disabled = true;  // To prevent multiple clicks.\n",
              "      quickchartButtonEl.classList.add('colab-df-spinner');\n",
              "      try {\n",
              "        const charts = await google.colab.kernel.invokeFunction(\n",
              "            'suggestCharts', [key], {});\n",
              "      } catch (error) {\n",
              "        console.error('Error during call to suggestCharts:', error);\n",
              "      }\n",
              "      quickchartButtonEl.classList.remove('colab-df-spinner');\n",
              "      quickchartButtonEl.classList.add('colab-df-quickchart-complete');\n",
              "    }\n",
              "    (() => {\n",
              "      let quickchartButtonEl =\n",
              "        document.querySelector('#df-d24855d5-4ce2-4f52-9deb-bfcbd4bb2165 button');\n",
              "      quickchartButtonEl.style.display =\n",
              "        google.colab.kernel.accessAllowed ? 'block' : 'none';\n",
              "    })();\n",
              "  </script>\n",
              "</div>\n",
              "    </div>\n",
              "  </div>\n"
            ],
            "application/vnd.google.colaboratory.intrinsic+json": {
              "type": "dataframe",
              "variable_name": "output",
              "summary": "{\n  \"name\": \"output\",\n  \"rows\": 47133,\n  \"fields\": [\n    {\n      \"column\": \"customer_id\",\n      \"properties\": {\n        \"dtype\": \"string\",\n        \"num_unique_values\": 47133,\n        \"samples\": [\n          \"0xC221390359734D44BFAA93D955B7553E\",\n          \"0x14EB4FDCD8E27F4DBF745760A586DA52\",\n          \"0x7C208A59E764D44094A607363205C8C8\"\n        ],\n        \"semantic_type\": \"\",\n        \"description\": \"\"\n      }\n    },\n    {\n      \"column\": \"label\",\n      \"properties\": {\n        \"dtype\": \"boolean\",\n        \"num_unique_values\": 1,\n        \"samples\": [\n          false\n        ],\n        \"semantic_type\": \"\",\n        \"description\": \"\"\n      }\n    }\n  ]\n}"
            }
          },
          "metadata": {},
          "execution_count": 61
        }
      ]
    },
    {
      "cell_type": "code",
      "source": [
        "output['label'].value_counts()"
      ],
      "metadata": {
        "colab": {
          "base_uri": "https://localhost:8080/"
        },
        "id": "DWvG4fjaHziU",
        "outputId": "60b74a59-ac17-4e13-dac0-04a1570cd880"
      },
      "execution_count": null,
      "outputs": [
        {
          "output_type": "execute_result",
          "data": {
            "text/plain": [
              "label\n",
              "False    47133\n",
              "Name: count, dtype: int64"
            ]
          },
          "metadata": {},
          "execution_count": 55
        }
      ]
    }
  ]
}